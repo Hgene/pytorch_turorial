{
 "cells": [
  {
   "cell_type": "code",
   "execution_count": 1,
   "metadata": {},
   "outputs": [],
   "source": [
    "import numpy as np\n",
    "import torch\n",
    "import torch.nn as nn\n",
    "import torch.optim as optim\n",
    "import torch.nn.init as init\n",
    "import torch.utils.data as data\n",
    "import torchvision.datasets as dset\n",
    "import torchvision.transforms as transforms\n",
    "from torch.utils.data import DataLoader"
   ]
  },
  {
   "cell_type": "code",
   "execution_count": 2,
   "metadata": {},
   "outputs": [
    {
     "data": {
      "text/plain": [
       "'\\ntry:\\n  os.mkdir(\"images\")\\n  os.mkdir(\"images/dogs\")\\n  os.mkdir(\"images/cats\")\\nexcept:\\n    pass\\n    '"
      ]
     },
     "execution_count": 2,
     "metadata": {},
     "output_type": "execute_result"
    }
   ],
   "source": [
    "import os \n",
    "'''\n",
    "try:\n",
    "  os.mkdir(\"images\")\n",
    "  os.mkdir(\"images/dogs\")\n",
    "  os.mkdir(\"images/cats\")\n",
    "except:\n",
    "    pass\n",
    "    '''"
   ]
  },
  {
   "cell_type": "code",
   "execution_count": 3,
   "metadata": {},
   "outputs": [],
   "source": [
    "batch_size= 1\n",
    "learning_rate = 0.0002\n",
    "num_epoch = 100"
   ]
  },
  {
   "cell_type": "code",
   "execution_count": 10,
   "metadata": {},
   "outputs": [],
   "source": [
    "#os.chdir('C:/Users/Gene/Desktop/projects/pytorch_tutorial')\n",
    "img_dir = \"C:/Users/Gene/Desktop/projects/pytorch_tutorial/images\"\n",
    "img_data = dset.ImageFolder(img_dir, transforms.Compose([\n",
    "                                      transforms.Resize(256),                   \n",
    "                                      transforms.RandomResizedCrop(224),        \n",
    "                                      transforms.RandomHorizontalFlip(),        \n",
    "                                      transforms.ToTensor(),                    \n",
    "            ]))\n",
    "\n",
    "train_loader = data.DataLoader(img_data, batch_size=batch_size,\n",
    "                            shuffle=True, num_workers=2)"
   ]
  },
  {
   "cell_type": "code",
   "execution_count": 5,
   "metadata": {},
   "outputs": [],
   "source": [
    "def conv_block_1(in_dim,out_dim,act_fn,stride=1):\n",
    "    model = nn.Sequential(\n",
    "        nn.Conv2d(in_dim,out_dim, kernel_size=1, stride=stride),\n",
    "        act_fn,\n",
    "    )\n",
    "    return model\n",
    "\n",
    "\n",
    "def conv_block_3(in_dim,out_dim,act_fn):\n",
    "    model = nn.Sequential(\n",
    "        nn.Conv2d(in_dim,out_dim, kernel_size=3, stride=1, padding=1),\n",
    "        act_fn,\n",
    "    )\n",
    "    return model"
   ]
  },
  {
   "cell_type": "code",
   "execution_count": 6,
   "metadata": {},
   "outputs": [],
   "source": [
    "class BottleNeck(nn.Module):\n",
    "    def __init__(self,in_dim,mid_dim,out_dim,act_fn,down=False):\n",
    "        super(BottleNeck,self).__init__()\n",
    "        self.down=down\n",
    "        \n",
    "        # 특성지도의 크기가 감소하는 경우\n",
    "        if self.down:\n",
    "            self.layer = nn.Sequential(\n",
    "              conv_block_1(in_dim,mid_dim,act_fn,2),\n",
    "              conv_block_3(mid_dim,mid_dim,act_fn),\n",
    "              conv_block_1(mid_dim,out_dim,act_fn),\n",
    "            )\n",
    "            self.downsample = nn.Conv2d(in_dim,out_dim,1,2)\n",
    "            \n",
    "        # 특성지도의 크기가 그대로인 경우\n",
    "        else:\n",
    "            self.layer = nn.Sequential(\n",
    "                conv_block_1(in_dim,mid_dim,act_fn),\n",
    "                conv_block_3(mid_dim,mid_dim,act_fn),\n",
    "                conv_block_1(mid_dim,out_dim,act_fn),\n",
    "            )\n",
    "            \n",
    "        # 더하기를 위해 차원을 맞춰주는 부분\n",
    "        self.dim_equalizer = nn.Conv2d(in_dim,out_dim,kernel_size=1)\n",
    "                  \n",
    "    def forward(self,x):\n",
    "        if self.down:\n",
    "            downsample = self.downsample(x)\n",
    "            out = self.layer(x)\n",
    "            out = out + downsample\n",
    "        else:\n",
    "            out = self.layer(x)\n",
    "            if x.size() is not out.size():\n",
    "                x = self.dim_equalizer(x)\n",
    "            out = out + x\n",
    "        return out"
   ]
  },
  {
   "cell_type": "code",
   "execution_count": 7,
   "metadata": {},
   "outputs": [],
   "source": [
    "class ResNet(nn.Module):\n",
    "\n",
    "    def __init__(self, base_dim, num_classes=2):\n",
    "        super(ResNet, self).__init__()\n",
    "        self.act_fn = nn.ReLU()\n",
    "        self.layer_1 = nn.Sequential(\n",
    "            nn.Conv2d(3,base_dim,7,2,3),\n",
    "            nn.ReLU(),\n",
    "            nn.MaxPool2d(3,2,1),\n",
    "        )\n",
    "        self.layer_2 = nn.Sequential(\n",
    "            BottleNeck(base_dim,base_dim,base_dim*4,self.act_fn),\n",
    "            BottleNeck(base_dim*4,base_dim,base_dim*4,self.act_fn),\n",
    "            BottleNeck(base_dim*4,base_dim,base_dim*4,self.act_fn,down=True),\n",
    "        )   \n",
    "        self.layer_3 = nn.Sequential(\n",
    "            BottleNeck(base_dim*4,base_dim*2,base_dim*8,self.act_fn),\n",
    "            BottleNeck(base_dim*8,base_dim*2,base_dim*8,self.act_fn),\n",
    "            BottleNeck(base_dim*8,base_dim*2,base_dim*8,self.act_fn),\n",
    "            BottleNeck(base_dim*8,base_dim*2,base_dim*8,self.act_fn,down=True),\n",
    "        )\n",
    "        self.layer_4 = nn.Sequential(\n",
    "            BottleNeck(base_dim*8,base_dim*4,base_dim*16,self.act_fn),\n",
    "            BottleNeck(base_dim*16,base_dim*4,base_dim*16,self.act_fn),\n",
    "            BottleNeck(base_dim*16,base_dim*4,base_dim*16,self.act_fn),            \n",
    "            BottleNeck(base_dim*16,base_dim*4,base_dim*16,self.act_fn),\n",
    "            BottleNeck(base_dim*16,base_dim*4,base_dim*16,self.act_fn),\n",
    "            BottleNeck(base_dim*16,base_dim*4,base_dim*16,self.act_fn,down=True),\n",
    "        )\n",
    "        self.layer_5 = nn.Sequential(\n",
    "            BottleNeck(base_dim*16,base_dim*8,base_dim*32,self.act_fn),\n",
    "            BottleNeck(base_dim*32,base_dim*8,base_dim*32,self.act_fn),\n",
    "            BottleNeck(base_dim*32,base_dim*8,base_dim*32,self.act_fn),\n",
    "        )\n",
    "        self.avgpool = nn.AvgPool2d(7,1) \n",
    "        self.fc_layer = nn.Linear(base_dim*32,num_classes)\n",
    "        \n",
    "    def forward(self, x):\n",
    "        out = self.layer_1(x)\n",
    "        out = self.layer_2(out)\n",
    "        out = self.layer_3(out)\n",
    "        out = self.layer_4(out)\n",
    "        out = self.layer_5(out)\n",
    "        out = self.avgpool(out)\n",
    "        out = out.view(batch_size,-1)\n",
    "        out = self.fc_layer(out)\n",
    "        \n",
    "        return out\n"
   ]
  },
  {
   "cell_type": "code",
   "execution_count": 8,
   "metadata": {},
   "outputs": [
    {
     "name": "stdout",
     "output_type": "stream",
     "text": [
      "cuda:0\n"
     ]
    }
   ],
   "source": [
    "device = torch.device(\"cuda:0\" if torch.cuda.is_available() else \"cpu\")\n",
    "print(device)\n",
    "    \n",
    "model = ResNet(base_dim=64).to(device)\n",
    "\n",
    "'''\n",
    "for i in model.children():\n",
    "    print(i)\n",
    "'''\n",
    "\n",
    "loss_func = nn.CrossEntropyLoss()\n",
    "optimizer = optim.Adam(model.parameters(),lr=learning_rate)"
   ]
  },
  {
   "cell_type": "code",
   "execution_count": null,
   "metadata": {},
   "outputs": [],
   "source": [
    "for i in range(num_epoch):\n",
    "    for j,[image,label] in enumerate(train_loader):\n",
    "        x = image.to(device)\n",
    "        y_= label.to(device)\n",
    "        \n",
    "        optimizer.zero_grad()\n",
    "        output = model.forward(x)\n",
    "        loss = loss_func(output,y_)\n",
    "        loss.backward()\n",
    "        optimizer.step()\n",
    "\n",
    "    if i % 10 ==0:\n",
    "        print(loss)"
   ]
  },
  {
   "cell_type": "code",
   "execution_count": null,
   "metadata": {},
   "outputs": [],
   "source": []
  }
 ],
 "metadata": {
  "kernelspec": {
   "display_name": "torch",
   "language": "python",
   "name": "torch"
  },
  "language_info": {
   "codemirror_mode": {
    "name": "ipython",
    "version": 3
   },
   "file_extension": ".py",
   "mimetype": "text/x-python",
   "name": "python",
   "nbconvert_exporter": "python",
   "pygments_lexer": "ipython3",
   "version": "3.7.4"
  }
 },
 "nbformat": 4,
 "nbformat_minor": 4
}
