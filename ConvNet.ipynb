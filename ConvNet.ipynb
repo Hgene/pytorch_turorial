{
 "cells": [
  {
   "cell_type": "code",
   "execution_count": 1,
   "metadata": {},
   "outputs": [],
   "source": [
    "import torch\n",
    "import torch.nn as nn\n",
    "import torch.optim as optim\n",
    "import torch.nn.init as init\n",
    "import torchvision.datasets as dset\n",
    "import torchvision.transforms as transforms\n",
    "from torch.utils.data import DataLoader\n",
    "\n",
    "batch_size = 256\n",
    "learning_rate = 0.0002\n",
    "num_epoch = 10\n"
   ]
  },
  {
   "cell_type": "code",
   "execution_count": 2,
   "metadata": {},
   "outputs": [],
   "source": [
    "mnist_train = dset.MNIST(\"./\",train=True, transform=transforms.ToTensor(), target_transform=None, download=True)\n",
    "mnist_test = dset.MNIST(\"./\",train=False, transform=transforms.ToTensor(), target_transform=None, download=True)\n",
    "\n",
    "train_loader = DataLoader(mnist_train, batch_size=batch_size, shuffle=True, num_workers=2, drop_last=True)\n",
    "test_loader = DataLoader(mnist_test, batch_size=batch_size, shuffle=False, num_workers=2, drop_last=True)"
   ]
  },
  {
   "cell_type": "code",
   "execution_count": 3,
   "metadata": {},
   "outputs": [],
   "source": [
    "class CNN(nn.Module):\n",
    "    def __init__(self):\n",
    "        super(CNN,self).__init__()\n",
    "        self.layer = nn.Sequential(\n",
    "            nn.Conv2d(in_channels=1,out_channels=16,kernel_size=5),\n",
    "            nn.ReLU(),\n",
    "            nn.Conv2d(16,32,5),\n",
    "            nn.ReLU(),\n",
    "            nn.MaxPool2d(kernel_size=2,stride=2),\n",
    "            nn.Conv2d(32,64,5),\n",
    "            nn.ReLU(),\n",
    "            nn.MaxPool2d(2,2)\n",
    "        )\n",
    "        self.fc_layer = nn.Sequential(\n",
    "            nn.Linear(64*3*3,100),\n",
    "            nn.ReLU(),\n",
    "            nn.Linear(100,10)\n",
    "        )\n",
    "   \n",
    "\n",
    "    def forward(self,x):\n",
    "        out = self.layer(x)\n",
    "        out = out.view(batch_size,-1)\n",
    "        out = self.fc_layer(out)\n",
    "        return out"
   ]
  },
  {
   "cell_type": "code",
   "execution_count": 4,
   "metadata": {},
   "outputs": [
    {
     "name": "stdout",
     "output_type": "stream",
     "text": [
      "cuda:0\n"
     ]
    }
   ],
   "source": [
    "device = torch.device(\"cuda:0\" if torch.cuda.is_available() else \"cpu\")\n",
    "print(device)\n",
    "model = CNN().to(device)\n",
    "loss_func = nn.CrossEntropyLoss()\n",
    "optimizer = optim.Adam(model.parameters(), lr=learning_rate)"
   ]
  },
  {
   "cell_type": "code",
   "execution_count": 5,
   "metadata": {},
   "outputs": [
    {
     "name": "stdout",
     "output_type": "stream",
     "text": [
      "tensor(2.3058, device='cuda:0', grad_fn=<NllLossBackward>)\n",
      "tensor(0.3681, device='cuda:0', grad_fn=<NllLossBackward>)\n",
      "tensor(0.1979, device='cuda:0', grad_fn=<NllLossBackward>)\n",
      "tensor(0.2689, device='cuda:0', grad_fn=<NllLossBackward>)\n",
      "tensor(0.2212, device='cuda:0', grad_fn=<NllLossBackward>)\n",
      "tensor(0.1792, device='cuda:0', grad_fn=<NllLossBackward>)\n",
      "tensor(0.1375, device='cuda:0', grad_fn=<NllLossBackward>)\n",
      "tensor(0.0789, device='cuda:0', grad_fn=<NllLossBackward>)\n",
      "tensor(0.1008, device='cuda:0', grad_fn=<NllLossBackward>)\n",
      "tensor(0.1155, device='cuda:0', grad_fn=<NllLossBackward>)\n",
      "tensor(0.0683, device='cuda:0', grad_fn=<NllLossBackward>)\n",
      "tensor(0.0807, device='cuda:0', grad_fn=<NllLossBackward>)\n",
      "tensor(0.0363, device='cuda:0', grad_fn=<NllLossBackward>)\n",
      "tensor(0.1272, device='cuda:0', grad_fn=<NllLossBackward>)\n",
      "tensor(0.0581, device='cuda:0', grad_fn=<NllLossBackward>)\n",
      "tensor(0.1103, device='cuda:0', grad_fn=<NllLossBackward>)\n",
      "tensor(0.0488, device='cuda:0', grad_fn=<NllLossBackward>)\n",
      "tensor(0.0885, device='cuda:0', grad_fn=<NllLossBackward>)\n",
      "tensor(0.0719, device='cuda:0', grad_fn=<NllLossBackward>)\n",
      "tensor(0.0484, device='cuda:0', grad_fn=<NllLossBackward>)\n",
      "tensor(0.0868, device='cuda:0', grad_fn=<NllLossBackward>)\n",
      "tensor(0.0561, device='cuda:0', grad_fn=<NllLossBackward>)\n",
      "tensor(0.0534, device='cuda:0', grad_fn=<NllLossBackward>)\n",
      "tensor(0.0416, device='cuda:0', grad_fn=<NllLossBackward>)\n",
      "tensor(0.0440, device='cuda:0', grad_fn=<NllLossBackward>)\n",
      "tensor(0.0439, device='cuda:0', grad_fn=<NllLossBackward>)\n",
      "tensor(0.0497, device='cuda:0', grad_fn=<NllLossBackward>)\n",
      "tensor(0.0455, device='cuda:0', grad_fn=<NllLossBackward>)\n",
      "tensor(0.0226, device='cuda:0', grad_fn=<NllLossBackward>)\n",
      "tensor(0.0483, device='cuda:0', grad_fn=<NllLossBackward>)\n"
     ]
    }
   ],
   "source": [
    "loss_arr=[]\n",
    "for i in range(num_epoch):\n",
    "    for j,[image,label] in enumerate(train_loader):\n",
    "        x = image.to(device)\n",
    "        y_ = label.to(device)\n",
    "        \n",
    "        optimizer.zero_grad()\n",
    "        output = model.forward(x)\n",
    "        loss = loss_func(output,y_)\n",
    "        loss.backward()\n",
    "        optimizer.step()\n",
    "        \n",
    "        if j %100 == 0:\n",
    "            print(loss)\n",
    "            loss_arr.append(loss.cpu().detach().numpy())"
   ]
  },
  {
   "cell_type": "code",
   "execution_count": 6,
   "metadata": {},
   "outputs": [
    {
     "name": "stdout",
     "output_type": "stream",
     "text": [
      "Accuracy of Test Data : 98.51763153076172\n"
     ]
    }
   ],
   "source": [
    "correct = 0\n",
    "total = 0\n",
    "\n",
    "with torch.no_grad():\n",
    "    for image,label in test_loader:\n",
    "        x = image.to(device)\n",
    "        y_ = label.to(device)\n",
    "        \n",
    "        output = model.forward(x)\n",
    "        _,output_index = torch.max(output,1)\n",
    "        \n",
    "        total += label.size(0)\n",
    "        correct += (output_index == y_).sum().float()\n",
    "    \n",
    "    print(\"Accuracy of Test Data : {}\".format(100*correct/total))"
   ]
  },
  {
   "cell_type": "code",
   "execution_count": null,
   "metadata": {},
   "outputs": [],
   "source": []
  }
 ],
 "metadata": {
  "kernelspec": {
   "display_name": "torch",
   "language": "python",
   "name": "torch"
  },
  "language_info": {
   "codemirror_mode": {
    "name": "ipython",
    "version": 3
   },
   "file_extension": ".py",
   "mimetype": "text/x-python",
   "name": "python",
   "nbconvert_exporter": "python",
   "pygments_lexer": "ipython3",
   "version": "3.7.4"
  }
 },
 "nbformat": 4,
 "nbformat_minor": 4
}
