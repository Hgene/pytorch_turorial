{
 "cells": [
  {
   "cell_type": "code",
   "execution_count": 1,
   "metadata": {},
   "outputs": [],
   "source": [
    "import torch"
   ]
  },
  {
   "cell_type": "code",
   "execution_count": 2,
   "metadata": {},
   "outputs": [
    {
     "name": "stdout",
     "output_type": "stream",
     "text": [
      "tensor([[0., 0., 0.],\n",
      "        [0., 0., 0.]], device='cuda:0')\n"
     ]
    }
   ],
   "source": [
    "cpu_tensor = torch.zeros(2,3)\n",
    "device = torch.device(\"cuda:0\")\n",
    "gpu_tensor = cpu_tensor.to(device)\n",
    "print(gpu_tensor)"
   ]
  },
  {
   "cell_type": "code",
   "execution_count": 3,
   "metadata": {},
   "outputs": [
    {
     "data": {
      "text/plain": [
       "tensor([[0., 0., 0.],\n",
       "        [0., 0., 0.]])"
      ]
     },
     "execution_count": 3,
     "metadata": {},
     "output_type": "execute_result"
    }
   ],
   "source": [
    "X = torch.Tensor(2,3)\n",
    "X"
   ]
  },
  {
   "cell_type": "code",
   "execution_count": 4,
   "metadata": {},
   "outputs": [
    {
     "data": {
      "text/plain": [
       "tensor([[1, 2, 3],\n",
       "        [4, 5, 6]])"
      ]
     },
     "execution_count": 4,
     "metadata": {},
     "output_type": "execute_result"
    }
   ],
   "source": [
    "X = torch.tensor([[1,2,3],[4,5,6]])\n",
    "X"
   ]
  },
  {
   "cell_type": "code",
   "execution_count": 5,
   "metadata": {},
   "outputs": [
    {
     "data": {
      "text/plain": [
       "tensor([2., 3.], requires_grad=True)"
      ]
     },
     "execution_count": 5,
     "metadata": {},
     "output_type": "execute_result"
    }
   ],
   "source": [
    "x_tensor = torch.tensor(data=[2.0,3.0], requires_grad=True)\n",
    "x_tensor"
   ]
  },
  {
   "cell_type": "code",
   "execution_count": 6,
   "metadata": {},
   "outputs": [
    {
     "name": "stdout",
     "output_type": "stream",
     "text": [
      "tensor([ 8., 12.]) None None\n"
     ]
    }
   ],
   "source": [
    "x = torch.tensor(data=[2.,3.], requires_grad=True)\n",
    "y = x**2\n",
    "z = 2*y + 3\n",
    "\n",
    "target = torch.tensor([3.0,4.0])\n",
    "loss = torch.sum(torch.abs(z-target))\n",
    "loss.backward()\n",
    "\n",
    "print(x.grad, y.grad,z.grad)"
   ]
  },
  {
   "cell_type": "code",
   "execution_count": 7,
   "metadata": {},
   "outputs": [],
   "source": [
    "import torch\n",
    "import torch.nn as nn\n",
    "import torch.optim as optim\n",
    "import torch.nn.init as init\n"
   ]
  },
  {
   "cell_type": "code",
   "execution_count": 8,
   "metadata": {},
   "outputs": [],
   "source": [
    "num_data = 1000\n",
    "num_epoch = 500\n",
    "\n",
    "x = init.uniform_(torch.Tensor(num_data,1),-10,10)\n",
    "noise = init.normal_(torch.FloatTensor(num_data,1),std=1)\n",
    "y = 2*x+3\n",
    "y_noise = 2*(x+noise) + 3"
   ]
  },
  {
   "cell_type": "code",
   "execution_count": 9,
   "metadata": {},
   "outputs": [],
   "source": [
    "model = nn.Linear(1,1)\n",
    "loss_func = nn.L1Loss()\n",
    "\n",
    "optimizer = optim.SGD(model.parameters(),lr=0.01)"
   ]
  },
  {
   "cell_type": "code",
   "execution_count": 11,
   "metadata": {},
   "outputs": [
    {
     "name": "stdout",
     "output_type": "stream",
     "text": [
      "tensor(10.7673)\n",
      "tensor(8.3857)\n",
      "tensor(6.1623)\n",
      "tensor(4.3416)\n",
      "tensor(3.3877)\n",
      "tensor(3.0499)\n",
      "tensor(2.9231)\n",
      "tensor(2.8352)\n",
      "tensor(2.7612)\n",
      "tensor(2.6935)\n",
      "tensor(2.6291)\n",
      "tensor(2.5676)\n",
      "tensor(2.5086)\n",
      "tensor(2.4526)\n",
      "tensor(2.4000)\n",
      "tensor(2.3504)\n",
      "tensor(2.3038)\n",
      "tensor(2.2583)\n",
      "tensor(2.2143)\n",
      "tensor(2.1719)\n",
      "tensor(2.1313)\n",
      "tensor(2.0929)\n",
      "tensor(2.0573)\n",
      "tensor(2.0248)\n",
      "tensor(1.9946)\n",
      "tensor(1.9661)\n",
      "tensor(1.9396)\n",
      "tensor(1.9152)\n",
      "tensor(1.8914)\n",
      "tensor(1.8679)\n",
      "tensor(1.8451)\n",
      "tensor(1.8242)\n",
      "tensor(1.8043)\n",
      "tensor(1.7859)\n",
      "tensor(1.7691)\n",
      "tensor(1.7537)\n",
      "tensor(1.7390)\n",
      "tensor(1.7255)\n",
      "tensor(1.7133)\n",
      "tensor(1.7021)\n",
      "tensor(1.6919)\n",
      "tensor(1.6828)\n",
      "tensor(1.6742)\n",
      "tensor(1.6661)\n",
      "tensor(1.6586)\n",
      "tensor(1.6514)\n",
      "tensor(1.6449)\n",
      "tensor(1.6387)\n",
      "tensor(1.6336)\n",
      "tensor(1.6291)\n",
      "1.9809855222702026 2.504599094390869\n"
     ]
    }
   ],
   "source": [
    "label = y_noise\n",
    "for i in range(num_epoch):\n",
    "    optimizer.zero_grad()\n",
    "    output = model(x)\n",
    "    \n",
    "    loss = loss_func(output,label)\n",
    "    loss.backward()\n",
    "    optimizer.step()\n",
    "    \n",
    "    if i % 10 == 0:\n",
    "        print(loss.data)\n",
    "\n",
    "param_list = list(model.parameters())\n",
    "print(param_list[0].item(), param_list[1].item())"
   ]
  },
  {
   "cell_type": "code",
   "execution_count": null,
   "metadata": {},
   "outputs": [],
   "source": []
  }
 ],
 "metadata": {
  "kernelspec": {
   "display_name": "Python 3",
   "language": "python",
   "name": "python3"
  },
  "language_info": {
   "codemirror_mode": {
    "name": "ipython",
    "version": 3
   },
   "file_extension": ".py",
   "mimetype": "text/x-python",
   "name": "python",
   "nbconvert_exporter": "python",
   "pygments_lexer": "ipython3",
   "version": "3.7.4"
  }
 },
 "nbformat": 4,
 "nbformat_minor": 4
}
